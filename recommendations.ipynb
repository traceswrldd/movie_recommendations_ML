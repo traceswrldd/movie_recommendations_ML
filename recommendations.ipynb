{
  "nbformat": 4,
  "nbformat_minor": 0,
  "metadata": {
    "colab": {
      "provenance": [],
      "authorship_tag": "ABX9TyNCPFwlepSJKRJA5MZ6xkmp",
      "include_colab_link": true
    },
    "kernelspec": {
      "name": "python3",
      "display_name": "Python 3"
    },
    "language_info": {
      "name": "python"
    }
  },
  "cells": [
    {
      "cell_type": "markdown",
      "metadata": {
        "id": "view-in-github",
        "colab_type": "text"
      },
      "source": [
        "<a href=\"https://colab.research.google.com/github/traceswrldd/movie_recommendations_ML/blob/main/recommendations.ipynb\" target=\"_parent\"><img src=\"https://colab.research.google.com/assets/colab-badge.svg\" alt=\"Open In Colab\"/></a>"
      ]
    },
    {
      "cell_type": "code",
      "execution_count": 22,
      "metadata": {
        "id": "-YU-ocmcQbtF"
      },
      "outputs": [],
      "source": [
        "import pandas as pd\n",
        "import numpy as np\n",
        "import ast\n",
        "from nltk.stem.porter import PorterStemmer\n",
        "from sklearn.feature_extraction.text import CountVectorizer\n",
        "from sklearn.metrics.pairwise import cosine_similarity\n",
        "import pickle\n",
        "import os"
      ]
    },
    {
      "cell_type": "code",
      "source": [
        "\n",
        "class RecommendationSystem:\n",
        "    def __init__(self, load_from_pickle=False):\n",
        "        # Check if pickle files exist to save time on restart\n",
        "        if load_from_pickle and os.path.exists('movies.pkl') and os.path.exists('similarity.pkl'):\n",
        "            self.load_model()\n",
        "        else:\n",
        "            self.movies = pd.read_csv('tmdb_5000_movies.csv')\n",
        "            self.credits = pd.read_csv('tmdb_5000_credits.csv')\n",
        "            self.preprocess_data()\n",
        "            self.save_model()\n",
        "\n",
        "    def save_model(self):\n",
        "        # Save processed data and similarity matrix\n",
        "        pickle.dump(self.movies, open('movies.pkl', 'wb'))\n",
        "        pickle.dump(self.similarity, open('similarity.pkl', 'wb'))\n",
        "\n",
        "    def load_model(self):\n",
        "        # Load processed data and similarity matrix\n",
        "        self.movies = pickle.load(open('movies.pkl', 'rb'))\n",
        "        self.similarity = pickle.load(open('similarity.pkl', 'rb'))\n",
        "\n",
        "    def preprocess_data(self):\n",
        "        # Your existing preprocessing code\n",
        "        self.movies = self.movies.merge(self.credits,on='title')\n",
        "        self.movies.dropna(thresh=int(self.movies.shape[0]*0.95), axis=1, inplace=True)\n",
        "        self.movies.dropna(subset=['crew'], inplace=True)\n",
        "        self.movies = self.movies[['genres', 'id', 'keywords', 'original_language', 'overview', 'release_date', 'runtime', 'title', 'vote_average', 'vote_count', 'cast', 'crew']]\n",
        "\n",
        "        def convert_keywords(obj):\n",
        "            L = []\n",
        "            for i in ast.literal_eval(obj):\n",
        "                L.append(i['name'])\n",
        "            return L\n",
        "\n",
        "        def convert_genres(obj):\n",
        "            l = []\n",
        "            for i in ast.literal_eval(obj):\n",
        "                l.append(i['name'])\n",
        "            return l\n",
        "\n",
        "        def extract_cast(obj):\n",
        "            l = []\n",
        "            count = 0\n",
        "            if not isinstance(obj, str):\n",
        "                return l\n",
        "            try:\n",
        "                for i in ast.literal_eval(obj):\n",
        "                    if count != 3:\n",
        "                        l.append(i['name'])\n",
        "                        count += 1\n",
        "                    else:\n",
        "                        break\n",
        "            except Exception as e:\n",
        "                return l\n",
        "            return l\n",
        "\n",
        "        self.movies['keywords'] = self.movies['keywords'].apply(convert_keywords)\n",
        "        self.movies['genres'] = self.movies['genres'].apply(convert_genres)\n",
        "        self.movies['cast'] = self.movies['cast'].apply(extract_cast)\n",
        "        self.movies['crew'] = self.movies['crew'].apply(lambda x: [x] if x is not None else [])\n",
        "        self.movies['overview'] = self.movies['overview'].apply(lambda x: x.split() if isinstance(x, str) else [])\n",
        "\n",
        "        self.movies['tags'] = self.movies['overview'] + self.movies['cast'] + self.movies['crew'] + self.movies['keywords'] + self.movies['genres']\n",
        "\n",
        "        # Stemming\n",
        "        self.ps = PorterStemmer()\n",
        "\n",
        "        def stemming(text):\n",
        "            l = []\n",
        "            for i in text:\n",
        "                l.append(self.ps.stem(i))\n",
        "            return \" \".join(l)\n",
        "\n",
        "        self.movies['tags'] = self.movies['tags'].apply(stemming)\n",
        "\n",
        "        self.vectorizer = CountVectorizer(max_features=500, stop_words='english')\n",
        "        self.vectors = self.vectorizer.fit_transform(self.movies['tags']).toarray()\n",
        "\n",
        "        self.similarity = cosine_similarity(self.vectors)\n",
        "\n",
        "    def get_recommendations(self, movie_title, num_recommendations=10):\n",
        "        \"\"\"Return a list of recommended movies\"\"\"\n",
        "        try:\n",
        "            movie_index = self.movies[self.movies['title'] == movie_title].index[0]\n",
        "            distances = sorted(list(enumerate(self.similarity[movie_index])), reverse=True, key=lambda x: x[1])\n",
        "            recommended_movies = []\n",
        "            for i in distances[1:num_recommendations+1]:\n",
        "                recommended_movies.append(self.movies.iloc[i[0]].title)\n",
        "            return recommended_movies\n",
        "        except IndexError:\n",
        "            return []  # Return empty list if movie not found\n",
        "\n",
        "    def get_all_titles(self):\n",
        "        \"\"\"Return all movie titles for the dropdown\"\"\"\n",
        "        return self.movies['title'].tolist()"
      ],
      "metadata": {
        "id": "zPODQVPUUtUT"
      },
      "execution_count": 34,
      "outputs": []
    }
  ]
}